{
 "cells": [
  {
   "cell_type": "markdown",
   "metadata": {},
   "source": [
    "utf8csv2excel\n",
    "\n",
    "\n",
    "dir D:\\tfp\\project\\新致软件\\3岗位推荐算法\\from新致\\数据\\utf8\n",
    "\n",
    "2021/04/12  14:55           388,320 ttyc_candidate.csv\n",
    "2021/04/12  14:56           125,428 ttyc_label.csv\n",
    "2021/04/12  15:03           271,498 ttyc_personel_educational_experience.csv\n",
    "2021/04/12  15:04           193,084 ttyc_personel_label.csv\n",
    "2021/04/12  14:59           792,066 ttyc_personnel.csv\n",
    "2021/04/12  15:05             2,639 ttyc_personnel_member.csv\n",
    "2021/04/12  15:06           998,395 ttyc_personnel_project_experience.csv\n",
    "2021/04/13  10:10           998,409 ttyc_personnel_project_experienceT.csv\n",
    "2021/04/12  15:07           606,832 ttyc_personnel_work_experience.csv\n",
    "2021/04/12  16:02           244,787 ttyc_position.csv\n",
    "2021/04/12  16:02            64,728 ttyc_position_label.csv\n",
    "2021/04/12  16:03            47,048 ttyc_position_type.csv\n",
    "\n",
    "=\"'\" & LEFT(D1,LEN(D1)-4) & \"', \"\n",
    "\n",
    "=\"'\" & MID(A1, 37, LEN(A1)-40) & \"', \"\n"
   ]
  },
  {
   "cell_type": "code",
   "execution_count": 3,
   "metadata": {},
   "outputs": [
    {
     "data": {
      "text/plain": [
       "['ttyc_candidate.csv',\n",
       " 'ttyc_label.csv',\n",
       " 'ttyc_personnel.csv',\n",
       " 'ttyc_personnel_educational_experience.csv',\n",
       " 'ttyc_personnel_label.csv',\n",
       " 'ttyc_personnel_project_experience.csv',\n",
       " 'ttyc_personnel_work_experience.csv',\n",
       " 'ttyc_position.csv',\n",
       " 'ttyc_position_label.csv']"
      ]
     },
     "execution_count": 3,
     "metadata": {},
     "output_type": "execute_result"
    }
   ],
   "source": [
    "home = r'D:\\tfp\\project\\新致软件\\3岗位推荐算法\\from新致\\数据'\n",
    "import os # sys\n",
    "fileNamesCSV = os.listdir(home + r'\\历史18天的数据') # \\*.csv  \n",
    "fileNamesCSV"
   ]
  },
  {
   "cell_type": "code",
   "execution_count": 15,
   "metadata": {},
   "outputs": [
    {
     "data": {
      "text/plain": [
       "['ttyc_candidate',\n",
       " 'ttyc_label',\n",
       " 'ttyc_personnel',\n",
       " 'ttyc_personnel_educational_experience',\n",
       " 'ttyc_personnel_label',\n",
       " 'ttyc_personnel_project_experience',\n",
       " 'ttyc_personnel_work_experience',\n",
       " 'ttyc_position',\n",
       " 'ttyc_position_label']"
      ]
     },
     "execution_count": 15,
     "metadata": {},
     "output_type": "execute_result"
    }
   ],
   "source": [
    "# !dir D:\\tfp\\project\\新致软件\\3岗位推荐算法\\from新致\\数据\\utf8\n",
    "fileNames = [s[0:-4] for s in fileNamesCSV]\n",
    "fileNames"
   ]
  },
  {
   "cell_type": "code",
   "execution_count": 1,
   "metadata": {},
   "outputs": [],
   "source": [
    "import pandas  as pd\n"
   ]
  },
  {
   "cell_type": "code",
   "execution_count": 16,
   "metadata": {},
   "outputs": [
    {
     "data": {
      "text/plain": [
       "[14, 10, 14, 37, 20, 33, 30, 13, 19]"
      ]
     },
     "execution_count": 16,
     "metadata": {},
     "output_type": "execute_result"
    }
   ],
   "source": [
    "# InvalidWorksheetName: Excel worksheet name 'ttyc_personel_educational_experience' must be <= 31 chars.\n",
    "# print(len('ttyc_personel_educational_experience'))\n",
    "# [len(f) for f in fileNamesCSV] # <34-3=31\n",
    "# [18, 14, 18, 41, 24, 37, 34, 17, 23]\n",
    "[len(f) for f in fileNames]"
   ]
  },
  {
   "cell_type": "code",
   "execution_count": 19,
   "metadata": {},
   "outputs": [],
   "source": [
    "# ,号分隔的cvs文件\n",
    "fileNames=[\n",
    "#     'ttyc_candidate',\n",
    "#  'ttyc_label',\n",
    "#  'ttyc_personnel',\n",
    " 'ttyc_personnel_educational_experience',\n",
    " 'ttyc_personnel_label',\n",
    " 'ttyc_personnel_project_experience',\n",
    " 'ttyc_personnel_work_experience',\n",
    " 'ttyc_position',\n",
    " 'ttyc_position_label'\n",
    "]"
   ]
  },
  {
   "cell_type": "code",
   "execution_count": null,
   "metadata": {},
   "outputs": [
    {
     "name": "stdout",
     "output_type": "stream",
     "text": [
      "ttyc_personnel_educational_experience\n",
      "ttyc_personnel_label\n"
     ]
    }
   ],
   "source": [
    "for f in fileNames:\n",
    "    print(f)\n",
    "    df= pd.read_csv(home + '\\\\历史18天的数据\\\\' + f + '.csv', error_bad_lines=False )\n",
    "    df.to_excel(home + '\\\\excel18\\\\' + f + '.xlsx', sheet_name=f[5:36],index=False)\n"
   ]
  },
  {
   "cell_type": "markdown",
   "metadata": {},
   "source": [
    "ttyc_personnel:\n",
    "ParserError: Error tokenizing data. C error: Expected 45 fields in line 11734, saw 51\n",
    "b'Skipping line 11734: expected 45 fields, saw 51\\nSkipping line 13458: expected 45 fields, saw 47\\n'\n",
    "C:\\Users\\zxy\\Anaconda3\\lib\\site-packages\\IPython\\core\\interactiveshell.py:3058: DtypeWarning: Columns (4,14,18,21,23,24,25,27,28) have mixed types. Specify dtype option on import or set low_memory=False.\n",
    "  interactivity=interactivity, compiler=compiler, result=result)\n",
    "  "
   ]
  },
  {
   "cell_type": "code",
   "execution_count": 7,
   "metadata": {},
   "outputs": [],
   "source": [
    "# f = 'ttyc_personnel'\n",
    "df= pd.read_csv(home + '\\\\历史18天的数据\\\\ttyc_personnel-tfp.csv', error_bad_lines=False )\n",
    "df.to_excel(home + '\\\\excel18\\\\ttyc_personnel-tfp.xlsx', sheet_name='ttyc_personnel',index=False)"
   ]
  },
  {
   "cell_type": "markdown",
   "metadata": {},
   "source": [
    "ttyc_position.cvs ;号分隔的cvs文件\n",
    "\n",
    "否则 默认,号分隔：\n",
    "ParserError: Error tokenizing data. C error: \n",
    "Expected 1 fields in line 7, saw 2\n"
   ]
  },
  {
   "cell_type": "code",
   "execution_count": 31,
   "metadata": {},
   "outputs": [
    {
     "name": "stdout",
     "output_type": "stream",
     "text": [
      "ttyc_position\n",
      "ttyc_position_label\n"
     ]
    }
   ],
   "source": [
    "# ;号分隔的cvs文件\n",
    "fileNames2 = ['ttyc_position', 'ttyc_position_label']\n",
    "for f in fileNames2:\n",
    "    print(f)\n",
    "    df= pd.read_csv(home + '\\\\utf8\\\\' + f + '.csv', sep=';') # quotechar='\"',\n",
    "    df.to_excel(home + '\\\\excel\\\\' + f + '.xlsx', sheet_name=f,index=False)"
   ]
  },
  {
   "cell_type": "markdown",
   "metadata": {},
   "source": [
    "ttyc_personnel_project_experience.cvs\n",
    "\n",
    "ParserError: Error tokenizing data. C error: \n",
    "Expected 16 fields in line 67, saw 22\n",
    "\n",
    "2c91808378a6e1860178ada4f08c2887,2c91808378a6e1860178ada4e9e5286c,听呗广播APP,NULL,\"项目描述\n",
    "听呗是一款一站式娱乐互动广播平台。”听呗FM“汇聚音乐、小说、相声、脱口秀、情感、听书、车市信息、生活故事等精彩有声节目,同时还能与线上主播交流互动,享受最独特的娱乐互动体验。集合近千家全国各地广播,不管所处何地,听电台,听广播,想听就听。\",\"责任描述\n",
    "1、参与产品原型讨论,根据相关软件用户群,构思项目的整体设计风格;\n",
    "2、负责项目设计规范,确保设计风格的统一性,根据产品设计要求进行界面设计;\n",
    "3、参与产品前期界面视觉用户研究、设计流行趋势分析;\n",
    "4、负责页面设计,准确理解产品需求,设计出优质的界面;\",NULL,\"2017-03-01 00:00:00\",\"2017-08-01 00:00:00\",history,\"2021-04-08 02:42:51\",\"2021-04-08 02:42:51\",NULL,1,NULL,34907e07-b7da-43e8-84ae-7b2b91e9b4f0,1\n",
    "\n",
    "2c91808578b4b4410178b4cf1fb40357,2c91808578b4b4410178b4cf1f7a033a,掌上东航4.0,NULL,\"项目介绍:重构掌上东航底层公共服务能力, 包括公共技术组件、业务功能组件、UI交互组件,展现层新建“首页、消息、幸福网厅、党建、我”5大版块,以服务场景化、使用简单化,打造以智能创新、使用便捷为目标的全新版掌上东航。\",\"主要职责: 1、分析需求参与需求评审,编写测试方案\n",
    "2、根据业务需求与验收标准,设计测试场景、编写测试用例、记录缺陷\n",
    "3、使用Charles抓包,修改内容,查看返回接口数据, 模拟慢速网络\n",
    "4、负责app的功能测试、接口测试、兼容性测试\n",
    "5、使用jenkins自动部署测试包\",\"2020-05-01 00:00:00\",\"2020-12-01 00:00:00\",a457d182-68ef-11ea-9286-fa163eb91902,\"2021-04-09 12:06:16\",\"2021-04-09 12:06:16\",NULL,0,NULL,a457d182-68ef-11ea-9286-fa163eb91902,0\n",
    "\n",
    "ParserError: Error tokenizing data. C error: Expected 16 fields in line 306, saw 20\n",
    "\n",
    "2c91808578b4b4410178b513fc890739,2c91808578b4b4410178b513fc56071b,基于区块链的物流溯源管理系统,NULL,\"开发技术:MySql、Spring、SpringMVC、Mybatis、Vue\n",
    "项目描述: 世界贸易生态系统的成本和规模一直以复杂的态势增长。每年运输的货物价值超过4万亿美元,而消费者每天使用的物品中有80%以上通过海运进行运输。处理和管理运输这些货物所需的交易单证文件成本预计最高可达实际运输成本的五分之一。根据2013年世界经济论坛的一项研究,在国际贸易中减少信息共享和边界管理方面的摩擦 可能会使国内生产总值增长近 5%,交易量增加15% ——这一数字可能达到数万亿美元。2016年5月,金融区块链合作联盟(深圳)成立。本次项目利用区块链技术,从货物发货、运输到目的港口信息形成物流供应链,对物流各环节信息可进行溯源查询。\",\"责任描述: (1) 物流溯源数据中心:构建物流溯源数据中心将业务数据统一汇总存储至数据中心并将数据存储至海科区块链存证平台。通过海科区块链存证平台提供的API接口,在存证平台进行存证,存证信息包括运输方式、船名、载重、船期、货盘号、起点城市、起点港口、终点城市、终点港口等信息。\n",
    "(2) 物流管理:要求上方要根据起点港口到终点港口、船名、船期、货盘号及受载日期等条件进行查询功能,将结果显示在下方的物流信息列表,没有查询时,列表按分页的形式显示所有物流信息。\n",
    "物流信息页面里需要以下6种操作:新增、导入、导出、查看、修改及删除。\n",
    "(3) 供应链数据:要求上方要根据起点港口到终点港口、船名、船期、货盘号及受载日期等条件进行查询功能,将结果显示在下方的供应链数据信息列表,没有查询时,列表按分页的形式显示所有供应链数据信息。供应链数据信息页面里需要以下2种操作:查看及上链。\n",
    "(4) 对外提供http、webService接口\",NULL,NULL,a457bf0e-68ef-11ea-9286-fa163eb91902,\"2021-04-09 13:21:29\",\"2021-04-09 13:21:29\",NULL,0,NULL,a457bf0e-68ef-11ea-9286-fa163eb91902,0\n",
    "\n",
    "Expected 16 fields in line 531, saw 20\n",
    "2c91808578b4b4410178b56b1d261400,2c91808778b2c1dc0178b4476d615974,健康980,,\"深化医疗卫生体制改革已进入深水区。近年来，国家连续发布有关互联网+医疗健康的相关政策，“健康980”是以人为本，利用互联网等新技术，优化改造医疗机构服务流程，为老百姓提供可及的、便捷的、优质的医疗卫生服务。利用互联网传播能力，提升老百姓健康素养，根据健康状况、推送定制化健康宣传文章。提供预约诊疗服务，解决挂号难、排队时间长的问题；提供移动支付服务，解决缴费难的问题；提供慢病随访服务。\n",
    "项目职责：1、预约挂号模块：\n",
    "根据用户所选条件（地区，医院级别，排序条件）返回医院信息列表\n",
    "根据用户所选条件（科室级别、科室名，排序条件）返回科室 信息列表\n",
    "根据用户所选条件（医生级别、科室名）返回医生信息列表\n",
    "根据用户所选医院、科室返回详细信息\n",
    "根据用户所选医生返回详细信息和排班情况\n",
    "根据用户所填写订单信息创建预约挂号订单\n",
    "根据用户填写搜索条件返回查询结果列表（医生、医院、科室）\n",
    "2、支付模块：用户支付完成后修改预约挂号订单状态\n",
    "3、订单模块：医生完成订单后修改医生、医院、科室的订单量、对当前订单状态进行修改\n",
    "4、评论模块：用户对订单进行评价后增加评论数据到数据库，根据所填写数据修改医院、科室、医生的服务态度及治疗效果评分、医生星级、用户好评率、总评论数等数据\",,\"2020-05-01 00:00:00\",\"2021-01-01 00:00:00\",a45796a7-68ef-11ea-9286-fa163eb91902,\"2021-04-09 14:56:39\",\"2021-04-09 14:56:39\",NULL,1,NULL,b2641071-eeb9-4cce-8da8-f289a89b2652,1\n",
    "\n",
    "Expected 16 fields in line 520, saw 23\n",
    "\n",
    "Expected 16 fields in line 637, saw 17\n",
    "2c91808578b4b4410178b5955ee31c32,2c91808578b4b4410178b5955ead1c0f,秒台车,NULL,\"项目描述:秒台车是一个专注于汽车“以租代购”业务的汽车新零售与新金融服务平台。平台由核心业务系统,鉴权系统,cms系统,工作流系统,erp系统,app等组合而成。已开发一年的时间,现团队70个人。\n",
    "· 研发环境和框架:    MQ+jenkins\n",
    "· 使用技术:\n",
    "· Redis:用于单点登录等。\n",
    "· 使用Spring Schedule定时任务处理过期权限。\n",
    "· 责任描述:\n",
    "· 参与项目的功能分析和设计讨论。\n",
    "· 参与的系统开发:cms系统,工作流系统。为其他系统提供dubbo接口。\n",
    "· 维护项目。\",NULL,\"2018-10-01 00:00:00\",\"2019-01-01 00:00:00\",a457ecf7-68ef-11ea-9286-fa163eb91902,\"2021-04-09 15:42:49\",\"2021-04-09 15:42:49\",NULL,0,NULL,a457ecf7-68ef-11ea-9286-fa163eb91902,0\n",
    "\n",
    "2c91808578b4b4410178b59560091c5b,2c91808578b4b4410178b5955fd81c39,AGV小车/AGV叉车(智能仓储方向)嵌入式软件开发,NULL,\"AGV/Jx车属于当前最火热的人工智能方向,集“嵌入式硬件,嵌入式软件,PC软件,算法”于一体的综合项目.\n",
    "AGV小车可以无间断的在厂区进行货物搬运工作,高效且稳定,整个厂区的AGV小车由PC端调度系统进行统一控制,调度 系统规划任务,监控小车运行状态,以及监控当前厂区的状态.\",\"责任描述: 1) 负责AGV小车的嵌入式软件,根据项目需求完成相应的功能.\n",
    "2) 负责在开发板中接入各类传感器(超声,红外,光电,渐进开关,微动开关,碰撞条等),电机控制器(伺服电机),音乐播放 器,数码管,编码器等设备,并完成相应的逻辑处理.\n",
    "3) 协助其他组共同分析问题,解决问题.\",\"2018-05-01 00:00:00\",\"2018-08-01 00:00:00\",a4572924-68ef-11ea-9286-fa163eb91902,\"2021-04-09 15:42:49\",\"2021-04-09 15:42:49\",NULL,0,NULL,a4572924-68ef-11ea-9286-fa163eb91902,0\n",
    "\n",
    "check = pd.read_csv(r\"C:\\Users\\Administrator\\Desktop\\TTSLAI\\数据\\ttyc_personnel_project_experience.csv\",error_bad_lines=False)\n",
    "这样其实还是会有问题，一些行字段数不够。\n",
    "另 项目描述 与 责任描述 有点乱!"
   ]
  },
  {
   "cell_type": "code",
   "execution_count": 57,
   "metadata": {
    "scrolled": false
   },
   "outputs": [],
   "source": [
    "f = 'ttyc_personnel_project_experienceT'\n",
    "df= pd.read_csv(home + '\\\\utf8\\\\' + f + '.csv')\n",
    "df.to_excel(home + '\\\\excel\\\\' + f + '.xlsx', sheet_name=f[5:36],index=False)"
   ]
  },
  {
   "cell_type": "code",
   "execution_count": 18,
   "metadata": {},
   "outputs": [
    {
     "data": {
      "text/plain": [
       "True"
      ]
     },
     "execution_count": 18,
     "metadata": {},
     "output_type": "execute_result"
    }
   ],
   "source": []
  },
  {
   "cell_type": "markdown",
   "metadata": {},
   "source": [
    "4: os.path.splitext(filename)\n",
    "把文件名分成文件名称和扩展名\n",
    "\n",
    "os.path.splitext(abc/abcd.txt)\n",
    "('abc/abcd', '.txt')"
   ]
  },
  {
   "cell_type": "markdown",
   "metadata": {},
   "source": []
  },
  {
   "cell_type": "code",
   "execution_count": 51,
   "metadata": {
    "collapsed": true
   },
   "outputs": [
    {
     "data": {
      "text/plain": [
       "['ttyc_candidate.csv',\n",
       " 'ttyc_label.csv',\n",
       " 'ttyc_personel_educational_experience.csv',\n",
       " 'ttyc_personel_label.csv',\n",
       " 'ttyc_personnel.csv',\n",
       " 'ttyc_personnel_member.csv',\n",
       " 'ttyc_personnel_project_experience.csv',\n",
       " 'ttyc_personnel_project_experienceT.csv',\n",
       " 'ttyc_personnel_work_experience.csv',\n",
       " 'ttyc_position.csv',\n",
       " 'ttyc_position_label.csv',\n",
       " 'ttyc_position_type.csv']"
      ]
     },
     "execution_count": 51,
     "metadata": {},
     "output_type": "execute_result"
    }
   ],
   "source": [
    "txt = '''2021/04/12  14:55           388,320 ttyc_candidate.csv\n",
    "2021/04/12  14:56           125,428 ttyc_label.csv\n",
    "2021/04/12  15:03           271,498 ttyc_personel_educational_experience.csv\n",
    "2021/04/12  15:04           193,084 ttyc_personel_label.csv\n",
    "2021/04/12  14:59           792,066 ttyc_personnel.csv\n",
    "2021/04/12  15:05             2,639 ttyc_personnel_member.csv\n",
    "2021/04/12  15:06           998,395 ttyc_personnel_project_experience.csv\n",
    "2021/04/13  10:10           998,409 ttyc_personnel_project_experienceT.csv\n",
    "2021/04/12  15:07           606,832 ttyc_personnel_work_experience.csv\n",
    "2021/04/12  16:02           244,787 ttyc_position.csv\n",
    "2021/04/12  16:02            64,728 ttyc_position_label.csv\n",
    "2021/04/12  16:03            47,048 ttyc_position_type.csv'''\n",
    "words = txt.split()\n",
    "fileNamesCSV = words[3:99:4]\n",
    "fileNames0"
   ]
  }
 ],
 "metadata": {
  "kernelspec": {
   "display_name": "Python 3",
   "language": "python",
   "name": "python3"
  },
  "language_info": {
   "codemirror_mode": {
    "name": "ipython",
    "version": 3
   },
   "file_extension": ".py",
   "mimetype": "text/x-python",
   "name": "python",
   "nbconvert_exporter": "python",
   "pygments_lexer": "ipython3",
   "version": "3.7.4"
  },
  "toc": {
   "base_numbering": 1,
   "nav_menu": {},
   "number_sections": true,
   "sideBar": true,
   "skip_h1_title": false,
   "title_cell": "Table of Contents",
   "title_sidebar": "Contents",
   "toc_cell": false,
   "toc_position": {},
   "toc_section_display": true,
   "toc_window_display": false
  }
 },
 "nbformat": 4,
 "nbformat_minor": 2
}
